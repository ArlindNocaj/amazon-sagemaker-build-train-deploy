{
 "cells": [
  {
   "attachments": {},
   "cell_type": "markdown",
   "id": "62f10e69-64e2-4ff6-80d2-8d3d8872f535",
   "metadata": {},
   "source": [
    "## Update Amazon SageMaker Python SDK\n",
    "In this notebook, we will download the latest version of the SageMaker Python SDK.\n",
    "\n",
    "Running the next cell install the latest version of SageMaker Python SDK and restart the kernel.\n",
    "\n",
    "> You will see a \"Kernel Restarting\" message during the execution of this cell. This message is expected. Do not re-run the cell and continue to the next cell.\n",
    "\n",
    "<img src=\"images/studio_kernel_restarting.png\" alt=\"Studio kernel restarting\" width=\"500px\" />"
   ]
  },
  {
   "cell_type": "code",
   "execution_count": null,
   "id": "9c958619-e4bf-416a-8d62-98db4897a5fb",
   "metadata": {
    "tags": []
   },
   "outputs": [],
   "source": [
    "import IPython\n",
    "\n",
    "!pip install --upgrade sagemaker\n",
    "!pip install --upgrade boto3 \n",
    "\n",
    "IPython.Application.instance().kernel.do_shutdown(True)"
   ]
  },
  {
   "cell_type": "markdown",
   "id": "7c7311c7-f7da-4948-8d77-2e1973f10e90",
   "metadata": {},
   "source": [
    "Run this cell to display the version of the libraries installed in your environment. If you hit any issues with package versions when running this workshop, please include the version of these libraries in the GitHub issue you raise."
   ]
  },
  {
   "cell_type": "code",
   "execution_count": null,
   "id": "bd3302b3-411e-4937-b0ab-a6286dbce5e4",
   "metadata": {
    "tags": []
   },
   "outputs": [],
   "source": [
    "import sagemaker, pandas, numpy, boto3\n",
    "print(sagemaker.__version__)\n",
    "print(pandas.__version__)\n",
    "print(numpy.__version__)\n",
    "print(boto3.__version__)"
   ]
  },
  {
   "attachments": {},
   "cell_type": "markdown",
   "id": "421c65fd",
   "metadata": {},
   "source": [
    "Move to the next module **02_data_exploration_and_feature_eng** to start data exploration, preprocessing, and feature engineering."
   ]
  }
 ],
 "metadata": {
  "instance_type": "ml.t3.medium",
  "kernelspec": {
   "display_name": "Python 3",
   "language": "python",
   "name": "python3"
  },
  "language_info": {
   "codemirror_mode": {
    "name": "ipython",
    "version": 3
   },
   "file_extension": ".py",
   "mimetype": "text/x-python",
   "name": "python",
   "nbconvert_exporter": "python",
   "pygments_lexer": "ipython3",
   "version": "3.10.0 (v3.10.0:b494f5935c, Oct  4 2021, 14:59:20) [Clang 12.0.5 (clang-1205.0.22.11)]"
  },
  "vscode": {
   "interpreter": {
    "hash": "7e1998ff7f8aa20ada591c520b972326324e5ea05489af9e422744c7c09f6dad"
   }
  }
 },
 "nbformat": 4,
 "nbformat_minor": 5
}
