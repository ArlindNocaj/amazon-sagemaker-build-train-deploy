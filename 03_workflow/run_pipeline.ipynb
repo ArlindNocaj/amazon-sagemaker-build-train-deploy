{
 "cells": [
  {
   "cell_type": "code",
   "execution_count": null,
   "id": "1f7e4b6c-f8c9-4a7a-b24f-2b3751203913",
   "metadata": {},
   "outputs": [],
   "source": [
    "%pip install requirements.txt"
   ]
  },
  {
   "cell_type": "markdown",
   "id": "dc6539d0-c10f-4b75-949e-4a125a7d0980",
   "metadata": {},
   "source": [
    "Lets restore the variables from the starting notebook"
   ]
  },
  {
   "cell_type": "code",
   "execution_count": 6,
   "id": "a780a112-657c-4442-9681-2de9cc601a5c",
   "metadata": {},
   "outputs": [
    {
     "name": "stdout",
     "output_type": "stream",
     "text": [
      "Stored variables and their in-db values:\n",
      "bucket_name                   -> 'sagemaker-us-east-1-305291619205'\n",
      "bucket_prefix                 -> 'sagemaker-us-east-1-305291619205/amzn'\n",
      "domain_id                     -> 'd-jwgfxn83vtlh'\n",
      "initialized                   -> True\n",
      "mlflow_arn                    -> 'arn:aws:sagemaker:us-east-1:305291619205:mlflow-t\n",
      "mlflow_name                   -> 'mlflow-d-jwgfxn83vtlh'\n",
      "project_prefix                -> 'amzn'\n",
      "region                        -> 'us-east-1'\n",
      "sm_role                       -> 'arn:aws:iam::305291619205:role/cfnstudiodomain-Sa\n",
      "space_name                    -> 'sagemaker-space'\n",
      "user_profile_name             -> 'studio-user-6eddeb70'\n"
     ]
    }
   ],
   "source": [
    "%store -r \n",
    "\n",
    "%store\n",
    "\n",
    "try:\n",
    "    initialized\n",
    "except NameError:    \n",
    "    print(\"[ERROR] YOU HAVE TO RUN 00-start-here notebook   \")"
   ]
  },
  {
   "cell_type": "code",
   "execution_count": null,
   "id": "b20f6233-a82a-48a3-b9bf-76312b5b9f4e",
   "metadata": {},
   "outputs": [],
   "source": [
    "config_yaml = f\"\"\"\n",
    "SchemaVersion: '1.0'\n",
    "SageMaker:\n",
    "  PythonSDK:\n",
    "    Modules:\n",
    "      RemoteFunction:\n",
    "        # role arn is not required if in SageMaker Notebook instance or SageMaker Studio\n",
    "        # Uncomment the following line and replace with the right execution role if in a local IDE\n",
    "        # RoleArn: <replace the role arn here>\n",
    "        S3RootUri: s3://{bucket_prefix}\n",
    "        InstanceType: ml.m5.xlarge\n",
    "        Dependencies: ./requirements.txt\n",
    "        IncludeLocalWorkDir: true\n",
    "        PreExecutionCommands:\n",
    "        - \"sudo chmod -R 777 /opt/ml/model\"\n",
    "        CustomFileFilter:\n",
    "          IgnoreNamePatterns:\n",
    "          - \"data/*\"\n",
    "          - \"models/*\"\n",
    "          - \"*.ipynb\"\n",
    "          - \"__pycache__\"\n",
    "\n",
    "\"\"\"\n",
    "\n",
    "print(config_yaml, file=open('config.yaml', 'w'))\n",
    "print(config_yaml)"
   ]
  },
  {
   "cell_type": "code",
   "execution_count": 7,
   "id": "21ab9de8-a6fc-423b-b924-696498a42da1",
   "metadata": {},
   "outputs": [
    {
     "name": "stdout",
     "output_type": "stream",
     "text": [
      "sagemaker.config INFO - Not applying SDK defaults from location: /etc/xdg/sagemaker/config.yaml\n",
      "sagemaker.config INFO - Not applying SDK defaults from location: /home/sagemaker-user/.config/sagemaker/config.yaml\n",
      "/opt/conda/lib/python3.10/site-packages/paramiko/pkey.py:100: CryptographyDeprecationWarning: TripleDES has been moved to cryptography.hazmat.decrepit.ciphers.algorithms.TripleDES and will be removed from this module in 48.0.0.\n",
      "  \"cipher\": algorithms.TripleDES,\n",
      "/opt/conda/lib/python3.10/site-packages/paramiko/transport.py:259: CryptographyDeprecationWarning: TripleDES has been moved to cryptography.hazmat.decrepit.ciphers.algorithms.TripleDES and will be removed from this module in 48.0.0.\n",
      "  \"class\": algorithms.TripleDES,\n",
      "sagemaker.config INFO - Fetched defaults config from location: /home/sagemaker-user/amazon-sagemaker-build-train-deploy/03_workflow\n",
      "Downloading dataset and uploading to Amazon S3...\n",
      "s3://sagemaker-us-east-1-305291619205/sagemaker-btd/predictive_maintenance_raw_data_header.csv\n",
      "sagemaker.config INFO - Applied value from config key = SageMaker.PythonSDK.Modules.RemoteFunction.Dependencies\n",
      "sagemaker.config INFO - Applied value from config key = SageMaker.PythonSDK.Modules.RemoteFunction.PreExecutionCommands\n",
      "sagemaker.config INFO - Applied value from config key = SageMaker.PythonSDK.Modules.RemoteFunction.IncludeLocalWorkDir\n",
      "sagemaker.config INFO - Applied value from config key = SageMaker.PythonSDK.Modules.RemoteFunction.CustomFileFilter.IgnoreNamePatterns\n",
      "sagemaker.config INFO - Applied value from config key = SageMaker.PythonSDK.Modules.RemoteFunction.InstanceType\n",
      "2024-10-03 14:53:30,371 sagemaker.remote_function INFO     Uploading serialized function code to s3://sagemaker-us-east-1-305291619205/amzn-sm-btd-pipeline/Deploy/2024-10-03-14-53-28-888/function\n",
      "2024-10-03 14:53:30,465 sagemaker.remote_function INFO     Uploading serialized function arguments to s3://sagemaker-us-east-1-305291619205/amzn-sm-btd-pipeline/Deploy/2024-10-03-14-53-28-888/arguments\n",
      "2024-10-03 14:53:30,730 sagemaker.remote_function INFO     Copied dependencies file at './requirements.txt' to '/tmp/tmp5s3pqa35/requirements.txt'\n",
      "2024-10-03 14:53:30,730 sagemaker.remote_function INFO     Generated pre-execution script from commands to '/tmp/tmp5s3pqa35/pre_exec.sh'\n",
      "2024-10-03 14:53:30,793 sagemaker.remote_function INFO     Successfully uploaded dependencies and pre execution scripts to 's3://sagemaker-us-east-1-305291619205/amzn-sm-btd-pipeline/Deploy/2024-10-03-14-53-28-888/pre_exec_script_and_dependencies'\n",
      "2024-10-03 14:53:30,796 sagemaker.remote_function INFO     Copied user workspace to '/tmp/tmp65gnwfyb/temp_workspace/sagemaker_remote_function_workspace'\n",
      "2024-10-03 14:53:30,800 sagemaker.remote_function INFO     Successfully created workdir archive at '/tmp/tmp65gnwfyb/workspace.zip'\n",
      "2024-10-03 14:53:30,916 sagemaker.remote_function INFO     Successfully uploaded workdir to 's3://sagemaker-us-east-1-305291619205/amzn-sm-btd-pipeline/sm_rf_user_ws/2024-10-03-14-53-28-888/workspace.zip'\n",
      "sagemaker.config INFO - Applied value from config key = SageMaker.PythonSDK.Modules.RemoteFunction.Dependencies\n",
      "sagemaker.config INFO - Applied value from config key = SageMaker.PythonSDK.Modules.RemoteFunction.PreExecutionCommands\n",
      "sagemaker.config INFO - Applied value from config key = SageMaker.PythonSDK.Modules.RemoteFunction.IncludeLocalWorkDir\n",
      "sagemaker.config INFO - Applied value from config key = SageMaker.PythonSDK.Modules.RemoteFunction.CustomFileFilter.IgnoreNamePatterns\n",
      "sagemaker.config INFO - Applied value from config key = SageMaker.PythonSDK.Modules.RemoteFunction.InstanceType\n",
      "2024-10-03 14:53:32,172 sagemaker.remote_function INFO     Uploading serialized function code to s3://sagemaker-us-east-1-305291619205/amzn-sm-btd-pipeline/Register/2024-10-03-14-53-28-888/function\n",
      "2024-10-03 14:53:32,241 sagemaker.remote_function INFO     Uploading serialized function arguments to s3://sagemaker-us-east-1-305291619205/amzn-sm-btd-pipeline/Register/2024-10-03-14-53-28-888/arguments\n",
      "2024-10-03 14:53:32,312 sagemaker.remote_function INFO     Copied dependencies file at './requirements.txt' to '/tmp/tmp1fl34rhm/requirements.txt'\n",
      "2024-10-03 14:53:32,312 sagemaker.remote_function INFO     Generated pre-execution script from commands to '/tmp/tmp1fl34rhm/pre_exec.sh'\n",
      "2024-10-03 14:53:32,367 sagemaker.remote_function INFO     Successfully uploaded dependencies and pre execution scripts to 's3://sagemaker-us-east-1-305291619205/amzn-sm-btd-pipeline/Register/2024-10-03-14-53-28-888/pre_exec_script_and_dependencies'\n",
      "sagemaker.config INFO - Applied value from config key = SageMaker.PythonSDK.Modules.RemoteFunction.Dependencies\n",
      "sagemaker.config INFO - Applied value from config key = SageMaker.PythonSDK.Modules.RemoteFunction.PreExecutionCommands\n",
      "sagemaker.config INFO - Applied value from config key = SageMaker.PythonSDK.Modules.RemoteFunction.IncludeLocalWorkDir\n",
      "sagemaker.config INFO - Applied value from config key = SageMaker.PythonSDK.Modules.RemoteFunction.CustomFileFilter.IgnoreNamePatterns\n",
      "sagemaker.config INFO - Applied value from config key = SageMaker.PythonSDK.Modules.RemoteFunction.InstanceType\n",
      "2024-10-03 14:53:33,599 sagemaker.remote_function INFO     Uploading serialized function code to s3://sagemaker-us-east-1-305291619205/amzn-sm-btd-pipeline/Preprocess/2024-10-03-14-53-28-888/function\n",
      "2024-10-03 14:53:33,685 sagemaker.remote_function INFO     Uploading serialized function arguments to s3://sagemaker-us-east-1-305291619205/amzn-sm-btd-pipeline/Preprocess/2024-10-03-14-53-28-888/arguments\n",
      "2024-10-03 14:53:33,757 sagemaker.remote_function INFO     Copied dependencies file at './requirements.txt' to '/tmp/tmp38z2jd4n/requirements.txt'\n",
      "2024-10-03 14:53:33,757 sagemaker.remote_function INFO     Generated pre-execution script from commands to '/tmp/tmp38z2jd4n/pre_exec.sh'\n",
      "2024-10-03 14:53:33,812 sagemaker.remote_function INFO     Successfully uploaded dependencies and pre execution scripts to 's3://sagemaker-us-east-1-305291619205/amzn-sm-btd-pipeline/Preprocess/2024-10-03-14-53-28-888/pre_exec_script_and_dependencies'\n",
      "sagemaker.config INFO - Applied value from config key = SageMaker.PythonSDK.Modules.RemoteFunction.Dependencies\n",
      "sagemaker.config INFO - Applied value from config key = SageMaker.PythonSDK.Modules.RemoteFunction.PreExecutionCommands\n",
      "sagemaker.config INFO - Applied value from config key = SageMaker.PythonSDK.Modules.RemoteFunction.IncludeLocalWorkDir\n",
      "sagemaker.config INFO - Applied value from config key = SageMaker.PythonSDK.Modules.RemoteFunction.CustomFileFilter.IgnoreNamePatterns\n",
      "sagemaker.config INFO - Applied value from config key = SageMaker.PythonSDK.Modules.RemoteFunction.InstanceType\n",
      "2024-10-03 14:53:35,087 sagemaker.remote_function INFO     Uploading serialized function code to s3://sagemaker-us-east-1-305291619205/amzn-sm-btd-pipeline/Train/2024-10-03-14-53-28-888/function\n",
      "2024-10-03 14:53:35,232 sagemaker.remote_function INFO     Uploading serialized function arguments to s3://sagemaker-us-east-1-305291619205/amzn-sm-btd-pipeline/Train/2024-10-03-14-53-28-888/arguments\n",
      "2024-10-03 14:53:35,359 sagemaker.remote_function INFO     Copied dependencies file at './requirements.txt' to '/tmp/tmp4dfdso0o/requirements.txt'\n",
      "2024-10-03 14:53:35,359 sagemaker.remote_function INFO     Generated pre-execution script from commands to '/tmp/tmp4dfdso0o/pre_exec.sh'\n",
      "2024-10-03 14:53:35,422 sagemaker.remote_function INFO     Successfully uploaded dependencies and pre execution scripts to 's3://sagemaker-us-east-1-305291619205/amzn-sm-btd-pipeline/Train/2024-10-03-14-53-28-888/pre_exec_script_and_dependencies'\n",
      "sagemaker.config INFO - Applied value from config key = SageMaker.PythonSDK.Modules.RemoteFunction.Dependencies\n",
      "sagemaker.config INFO - Applied value from config key = SageMaker.PythonSDK.Modules.RemoteFunction.PreExecutionCommands\n",
      "sagemaker.config INFO - Applied value from config key = SageMaker.PythonSDK.Modules.RemoteFunction.IncludeLocalWorkDir\n",
      "sagemaker.config INFO - Applied value from config key = SageMaker.PythonSDK.Modules.RemoteFunction.CustomFileFilter.IgnoreNamePatterns\n",
      "sagemaker.config INFO - Applied value from config key = SageMaker.PythonSDK.Modules.RemoteFunction.InstanceType\n",
      "2024-10-03 14:53:36,681 sagemaker.remote_function INFO     Uploading serialized function code to s3://sagemaker-us-east-1-305291619205/amzn-sm-btd-pipeline/Evaluate/2024-10-03-14-53-28-888/function\n",
      "2024-10-03 14:53:36,757 sagemaker.remote_function INFO     Uploading serialized function arguments to s3://sagemaker-us-east-1-305291619205/amzn-sm-btd-pipeline/Evaluate/2024-10-03-14-53-28-888/arguments\n",
      "2024-10-03 14:53:36,833 sagemaker.remote_function INFO     Copied dependencies file at './requirements.txt' to '/tmp/tmpood0juk_/requirements.txt'\n",
      "2024-10-03 14:53:36,834 sagemaker.remote_function INFO     Generated pre-execution script from commands to '/tmp/tmpood0juk_/pre_exec.sh'\n",
      "2024-10-03 14:53:36,926 sagemaker.remote_function INFO     Successfully uploaded dependencies and pre execution scripts to 's3://sagemaker-us-east-1-305291619205/amzn-sm-btd-pipeline/Evaluate/2024-10-03-14-53-28-888/pre_exec_script_and_dependencies'\n",
      "2024-10-03 14:53:37,507 sagemaker.remote_function INFO     Uploading serialized function code to s3://sagemaker-us-east-1-305291619205/amzn-sm-btd-pipeline/Deploy/2024-10-03-14-53-37-507/function\n",
      "2024-10-03 14:53:37,569 sagemaker.remote_function INFO     Uploading serialized function arguments to s3://sagemaker-us-east-1-305291619205/amzn-sm-btd-pipeline/Deploy/2024-10-03-14-53-37-507/arguments\n",
      "2024-10-03 14:53:37,826 sagemaker.remote_function INFO     Copied dependencies file at './requirements.txt' to '/tmp/tmpspyz6ddi/requirements.txt'\n",
      "2024-10-03 14:53:37,826 sagemaker.remote_function INFO     Generated pre-execution script from commands to '/tmp/tmpspyz6ddi/pre_exec.sh'\n",
      "2024-10-03 14:53:37,893 sagemaker.remote_function INFO     Successfully uploaded dependencies and pre execution scripts to 's3://sagemaker-us-east-1-305291619205/amzn-sm-btd-pipeline/Deploy/2024-10-03-14-53-37-507/pre_exec_script_and_dependencies'\n",
      "2024-10-03 14:53:37,897 sagemaker.remote_function INFO     Copied user workspace to '/tmp/tmp1tv_0jo4/temp_workspace/sagemaker_remote_function_workspace'\n",
      "2024-10-03 14:53:37,903 sagemaker.remote_function INFO     Successfully created workdir archive at '/tmp/tmp1tv_0jo4/workspace.zip'\n",
      "2024-10-03 14:53:37,966 sagemaker.remote_function INFO     Successfully uploaded workdir to 's3://sagemaker-us-east-1-305291619205/amzn-sm-btd-pipeline/sm_rf_user_ws/2024-10-03-14-53-37-507/workspace.zip'\n",
      "2024-10-03 14:53:37,973 sagemaker.remote_function INFO     Uploading serialized function code to s3://sagemaker-us-east-1-305291619205/amzn-sm-btd-pipeline/Register/2024-10-03-14-53-37-507/function\n",
      "2024-10-03 14:53:38,079 sagemaker.remote_function INFO     Uploading serialized function arguments to s3://sagemaker-us-east-1-305291619205/amzn-sm-btd-pipeline/Register/2024-10-03-14-53-37-507/arguments\n",
      "2024-10-03 14:53:38,162 sagemaker.remote_function INFO     Copied dependencies file at './requirements.txt' to '/tmp/tmpp49_8pfy/requirements.txt'\n",
      "2024-10-03 14:53:38,162 sagemaker.remote_function INFO     Generated pre-execution script from commands to '/tmp/tmpp49_8pfy/pre_exec.sh'\n",
      "2024-10-03 14:53:38,239 sagemaker.remote_function INFO     Successfully uploaded dependencies and pre execution scripts to 's3://sagemaker-us-east-1-305291619205/amzn-sm-btd-pipeline/Register/2024-10-03-14-53-37-507/pre_exec_script_and_dependencies'\n",
      "2024-10-03 14:53:38,241 sagemaker.remote_function INFO     Uploading serialized function code to s3://sagemaker-us-east-1-305291619205/amzn-sm-btd-pipeline/Preprocess/2024-10-03-14-53-37-507/function\n",
      "2024-10-03 14:53:38,327 sagemaker.remote_function INFO     Uploading serialized function arguments to s3://sagemaker-us-east-1-305291619205/amzn-sm-btd-pipeline/Preprocess/2024-10-03-14-53-37-507/arguments\n",
      "2024-10-03 14:53:38,455 sagemaker.remote_function INFO     Copied dependencies file at './requirements.txt' to '/tmp/tmpqih1f6_o/requirements.txt'\n",
      "2024-10-03 14:53:38,456 sagemaker.remote_function INFO     Generated pre-execution script from commands to '/tmp/tmpqih1f6_o/pre_exec.sh'\n",
      "2024-10-03 14:53:38,543 sagemaker.remote_function INFO     Successfully uploaded dependencies and pre execution scripts to 's3://sagemaker-us-east-1-305291619205/amzn-sm-btd-pipeline/Preprocess/2024-10-03-14-53-37-507/pre_exec_script_and_dependencies'\n",
      "2024-10-03 14:53:38,544 sagemaker.remote_function INFO     Uploading serialized function code to s3://sagemaker-us-east-1-305291619205/amzn-sm-btd-pipeline/Train/2024-10-03-14-53-37-507/function\n",
      "2024-10-03 14:53:38,644 sagemaker.remote_function INFO     Uploading serialized function arguments to s3://sagemaker-us-east-1-305291619205/amzn-sm-btd-pipeline/Train/2024-10-03-14-53-37-507/arguments\n",
      "2024-10-03 14:53:38,745 sagemaker.remote_function INFO     Copied dependencies file at './requirements.txt' to '/tmp/tmpvovebfng/requirements.txt'\n",
      "2024-10-03 14:53:38,745 sagemaker.remote_function INFO     Generated pre-execution script from commands to '/tmp/tmpvovebfng/pre_exec.sh'\n",
      "2024-10-03 14:53:38,836 sagemaker.remote_function INFO     Successfully uploaded dependencies and pre execution scripts to 's3://sagemaker-us-east-1-305291619205/amzn-sm-btd-pipeline/Train/2024-10-03-14-53-37-507/pre_exec_script_and_dependencies'\n",
      "2024-10-03 14:53:38,837 sagemaker.remote_function INFO     Uploading serialized function code to s3://sagemaker-us-east-1-305291619205/amzn-sm-btd-pipeline/Evaluate/2024-10-03-14-53-37-507/function\n",
      "2024-10-03 14:53:38,940 sagemaker.remote_function INFO     Uploading serialized function arguments to s3://sagemaker-us-east-1-305291619205/amzn-sm-btd-pipeline/Evaluate/2024-10-03-14-53-37-507/arguments\n",
      "2024-10-03 14:53:39,033 sagemaker.remote_function INFO     Copied dependencies file at './requirements.txt' to '/tmp/tmpy29b61b6/requirements.txt'\n",
      "2024-10-03 14:53:39,033 sagemaker.remote_function INFO     Generated pre-execution script from commands to '/tmp/tmpy29b61b6/pre_exec.sh'\n",
      "2024-10-03 14:53:39,100 sagemaker.remote_function INFO     Successfully uploaded dependencies and pre execution scripts to 's3://sagemaker-us-east-1-305291619205/amzn-sm-btd-pipeline/Evaluate/2024-10-03-14-53-37-507/pre_exec_script_and_dependencies'\n"
     ]
    }
   ],
   "source": [
    "import os\n",
    "os.environ[\"MLFLOW_TRACKING_ARN\"] = mlflow_arn\n",
    "!python pipeline.py"
   ]
  },
  {
   "cell_type": "code",
   "execution_count": null,
   "id": "a291cfe2-f223-4b5e-95f7-5353d2d3e074",
   "metadata": {},
   "outputs": [],
   "source": []
  }
 ],
 "metadata": {
  "kernelspec": {
   "display_name": "Python 3 (ipykernel)",
   "language": "python",
   "name": "python3"
  },
  "language_info": {
   "codemirror_mode": {
    "name": "ipython",
    "version": 3
   },
   "file_extension": ".py",
   "mimetype": "text/x-python",
   "name": "python",
   "nbconvert_exporter": "python",
   "pygments_lexer": "ipython3",
   "version": "3.10.14"
  }
 },
 "nbformat": 4,
 "nbformat_minor": 5
}
