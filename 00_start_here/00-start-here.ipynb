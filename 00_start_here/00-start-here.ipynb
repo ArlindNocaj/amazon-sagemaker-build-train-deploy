{
 "cells": [
  {
   "cell_type": "markdown",
   "id": "89f8d9fa-0d8f-4645-a42b-6fe9447355e5",
   "metadata": {
    "editable": true,
    "slideshow": {
     "slide_type": ""
    },
    "tags": [
     "parameters"
    ]
   },
   "source": [
    "# Start Here Notebook\n"
   ]
  },
  {
   "cell_type": "markdown",
   "id": "1f0ef893-66d0-4b81-9dfb-d18a441b3e4d",
   "metadata": {},
   "source": [
    "This notebook is used to make sure that your setup is ready to run for the workshop.\n",
    "\n",
    "The variables that will be created are\n",
    "\n",
    "* `project_prefix`: Project name prefix to be used for resource naming, e.g. S3, training job, endpoint name, pipeline names, etc.\n",
    "* `bucket_prefix`:  The main bucket that will be used throughout the examples.\n",
    "* `mlflow_name`: The name of the Mlflow server.\n",
    "* `mlflow_arn`: The resource identifier for the Mlflow server to be used for tracking experiments and runs.\n",
    "* `domain_id`: The Sagemaker domain id.\n",
    "* `region`: The current AWS region being used.\n",
    "\n"
   ]
  },
  {
   "cell_type": "markdown",
   "id": "ae1d8226",
   "metadata": {},
   "source": [
    "To run this notebook and all notebooks in the workshop please use the `Python 3` kernel in JupyterLab"
   ]
  },
  {
   "cell_type": "markdown",
   "id": "3412884f-0a96-402f-bb1d-2685d1d6ccf2",
   "metadata": {
    "tags": []
   },
   "source": [
    "## Setup\n",
    "Get the latest version of SageMaker Python SDK.\n",
    "\n",
    "<div class=\"alert alert-info\"> 💡 The workshop and all notebooks were tested with Sagemaker Distribution `1.11` and the SageMaker Python SDK (the package sagemaker) version 2.219.0. The notebooks don't pin the version of the sagemaker. If you encounter any incompatibility issues, you can install the specific version of the sagemaker by running the pip command: <code>%pip install sagemaker=2.219.0</code>\n",
    "</div>"
   ]
  },
  {
   "cell_type": "markdown",
   "id": "39455b3b-649f-4872-b238-a8892354f937",
   "metadata": {},
   "source": [
    "### Import packages"
   ]
  },
  {
   "cell_type": "code",
   "execution_count": 3,
   "id": "776b8950-0872-47b9-ac8c-f34b3aff85a2",
   "metadata": {
    "tags": []
   },
   "outputs": [
    {
     "name": "stdout",
     "output_type": "stream",
     "text": [
      "sagemaker.config INFO - Not applying SDK defaults from location: /etc/xdg/sagemaker/config.yaml\n",
      "sagemaker.config INFO - Not applying SDK defaults from location: /home/sagemaker-user/.config/sagemaker/config.yaml\n"
     ]
    },
    {
     "data": {
      "text/plain": [
       "('2.219.0', '1.34.162')"
      ]
     },
     "execution_count": 3,
     "metadata": {},
     "output_type": "execute_result"
    }
   ],
   "source": [
    "import time\n",
    "import os\n",
    "import json\n",
    "import boto3\n",
    "import numpy as np  \n",
    "import pandas as pd \n",
    "import sagemaker\n",
    "from time import gmtime, strftime, sleep\n",
    "\n",
    "(sagemaker.__version__,boto3.__version__)"
   ]
  },
  {
   "cell_type": "markdown",
   "id": "334b1157-f983-47d1-935a-d5e74ae92efa",
   "metadata": {},
   "source": [
    "### Set constants"
   ]
  },
  {
   "cell_type": "code",
   "execution_count": 22,
   "id": "d4aaa3b3-0a80-4011-b656-6df93b40fd51",
   "metadata": {
    "tags": []
   },
   "outputs": [],
   "source": [
    "# Get some variables you need to interact with SageMaker service\n",
    "boto_session = boto3.Session()\n",
    "sm_client = boto_session.client(\"sagemaker\")\n",
    "# sm_session = sagemaker.Session()\n",
    "bucket_name = sagemaker.Session().default_bucket()\n",
    "\n",
    "region = boto_session.region_name\n",
    "project_prefix = \"amzn\"\n",
    "bucket_prefix = f\"{bucket_name}/{project_prefix}\"\n",
    "\n",
    "initialized = True"
   ]
  },
  {
   "cell_type": "code",
   "execution_count": 23,
   "id": "27040c5d-b6ff-4891-8335-61e0e78f9e8c",
   "metadata": {
    "tags": []
   },
   "outputs": [
    {
     "name": "stdout",
     "output_type": "stream",
     "text": [
      "Stored 'project_prefix' (str)\n",
      "Stored 'bucket_prefix' (str)\n",
      "Stored 'region' (str)\n",
      "Stored 'initialized' (bool)\n"
     ]
    }
   ],
   "source": [
    "# Store some variables to keep the value between the notebooks\n",
    "\n",
    "%store project_prefix\n",
    "%store bucket_prefix\n",
    "%store region\n",
    "%store initialized"
   ]
  },
  {
   "cell_type": "markdown",
   "id": "b4f7b4ee-62b3-49ee-8045-dfceb1c3e5b6",
   "metadata": {},
   "source": [
    "### Get domain id\n",
    "You need this value `domain_id` in many SageMaker Python SDK and boto3 SageMaker API calls. The notebook metadata file contains `domain_id` value. The following code demonstrates how to access the notebook metadata file and get the `domain_id`."
   ]
  },
  {
   "cell_type": "code",
   "execution_count": 26,
   "id": "57644797-75fc-4001-bbf9-f652a4973760",
   "metadata": {
    "tags": []
   },
   "outputs": [
    {
     "name": "stdout",
     "output_type": "stream",
     "text": [
      "Stored 'domain_id' (str)\n"
     ]
    }
   ],
   "source": [
    "NOTEBOOK_METADATA_FILE = \"/opt/ml/metadata/resource-metadata.json\"\n",
    "domain_id = None\n",
    "\n",
    "if os.path.exists(NOTEBOOK_METADATA_FILE):\n",
    "    with open(NOTEBOOK_METADATA_FILE, \"rb\") as f:\n",
    "        metadata = json.loads(f.read())\n",
    "        domain_id = metadata.get('DomainId')        \n",
    "\n",
    "assert domain_id\n",
    "%store domain_id"
   ]
  },
  {
   "cell_type": "markdown",
   "id": "2ca23610-7cd9-409a-8f07-2a85dabc5533",
   "metadata": {},
   "source": [
    "### Get MLflow server\n",
    "If you're running an AWS-led workshop or used the delivered CloudFormation template to provision your workshop environment, an MLflow server must be up and running. If you don't have an MLflow server, follow the [Developer Guide](https://docs.aws.amazon.com/sagemaker/latest/dg/mlflow-create-tracking-server.html) to create one. The creation of a new MLflow server can take up to 25 minutes.\n",
    "\n",
    "Execute the following code to the name and arn of the MLflow server."
   ]
  },
  {
   "cell_type": "code",
   "execution_count": 38,
   "id": "7c94423a-fba8-4412-bfc5-b4ff71078923",
   "metadata": {},
   "outputs": [
    {
     "name": "stdout",
     "output_type": "stream",
     "text": [
      "MLflow Server Name: mlflow-d-ctulbmd27zmn, ARN: arn:aws:sagemaker:us-east-1:164342431904:mlflow-tracking-server/mlflow-d-ctulbmd27zmn\n"
     ]
    }
   ],
   "source": [
    "def get_mlflow_server_arn():\n",
    "    list_servers = boto3.client(\"sagemaker\").list_mlflow_tracking_servers()['TrackingServerSummaries']\n",
    "\n",
    "    assert len(list_servers)==1 # should be one MLflow server, if not make sure to set your correct one        \n",
    "    mlflow_arn = list_servers[0]['TrackingServerArn']\n",
    "    mlflow_name = list_servers[0]['TrackingServerName']\n",
    "    print(f\"MLflow Server Name: {mlflow_name}, ARN: {mlflow_arn}\")    \n",
    "    return mlflow_name,mlflow_arn\n",
    "\n",
    "mlflow_name, mlflow_arn = get_mlflow_server_arn()"
   ]
  },
  {
   "cell_type": "code",
   "execution_count": 39,
   "id": "d8315376-047e-4d5f-aed9-f0a5d9f8248b",
   "metadata": {},
   "outputs": [
    {
     "name": "stdout",
     "output_type": "stream",
     "text": [
      "Stored 'mlflow_name' (str)\n",
      "Stored 'mlflow_arn' (str)\n"
     ]
    }
   ],
   "source": [
    "%store mlflow_name\n",
    "%store mlflow_arn"
   ]
  },
  {
   "cell_type": "markdown",
   "id": "5a039ac0-4e8e-44ed-8384-a586b4afa313",
   "metadata": {},
   "source": [
    "### Check if docker access is enabled"
   ]
  },
  {
   "cell_type": "code",
   "execution_count": 40,
   "id": "9707868d-36ce-4283-9ac5-92e14f051bc3",
   "metadata": {},
   "outputs": [
    {
     "name": "stdout",
     "output_type": "stream",
     "text": [
      "The docker access is ENABLED in the domain d-ctulbmd27zmn\n"
     ]
    }
   ],
   "source": [
    "# check that docker enabled in the SageMaker domain\n",
    "docker_settings = sm_client.describe_domain(DomainId=domain_id)['DomainSettings'].get('DockerSettings')\n",
    "docker_enabled = False\n",
    "\n",
    "if docker_settings:\n",
    "    if docker_settings.get('EnableDockerAccess') in ['ENABLED']:\n",
    "        print(f\"The docker access is ENABLED in the domain {domain_id}\")\n",
    "        docker_enabled = True\n",
    "\n",
    "if not docker_enabled:\n",
    "    raise Exception(f\"You must enable docker access in the domain to use Studio local mode\")"
   ]
  },
  {
   "cell_type": "markdown",
   "id": "45826209-de57-410e-87ba-c4e0b78bd4c0",
   "metadata": {},
   "source": [
    "<div style=\"border: 4px solid coral; text-align: center; margin: auto;\">\n",
    "If the previous code cell raised an exeption that the docker access is not enabled, you need to enable the access. See the [01-custom-environment-guidance.ipynb](01-custom-environment-guidance.ipynb) for instructions how to do it.\n",
    "</div>"
   ]
  },
  {
   "cell_type": "code",
   "execution_count": 32,
   "id": "46d549d3-808a-43ad-be69-6e86638f31a8",
   "metadata": {},
   "outputs": [
    {
     "name": "stdout",
     "output_type": "stream",
     "text": [
      "Sagemaker distribution account for region: us-east-1: 885854791233\n",
      "SM_DIST_IMAGE: 885854791233.dkr.ecr.us-east-1.amazonaws.com/sagemaker-distribution-prod:1.11.0-gpu\n"
     ]
    }
   ],
   "source": [
    "import boto3\n",
    "\n",
    "REGION = boto3.session.Session().region_name\n",
    "REGION = \"us-east-1\"\n",
    "sagemaker_dist_repos = \"/aws/service/sagemaker-distribution/ecr-account-id\"\n",
    "sm_dist_repo_account = boto3.client('ssm', region_name=REGION).get_parameter(Name=sagemaker_dist_repos)['Parameter']['Value']\n",
    "\n",
    "SM_DIST_IMAGE=f\"{sm_dist_repo_account}.dkr.ecr.{REGION}.amazonaws.com/sagemaker-distribution-prod:1.11.0-gpu\"\n",
    "print(f\"Sagemaker distribution account for region: {REGION}: {sm_dist_repo_account}\")\n",
    "print(f\"SM_DIST_IMAGE: {SM_DIST_IMAGE}\")"
   ]
  },
  {
   "cell_type": "code",
   "execution_count": 33,
   "id": "ceebdf6a-f2e8-4b33-bdcd-bf63f0cdf53e",
   "metadata": {},
   "outputs": [
    {
     "data": {
      "text/plain": [
       "{'DockerSettings': {'EnableDockerAccess': 'ENABLED',\n",
       "  'VpcOnlyTrustedAccounts': ['885854791233']}}"
      ]
     },
     "execution_count": 33,
     "metadata": {},
     "output_type": "execute_result"
    }
   ],
   "source": [
    "# check the updated settings\n",
    "sm_client.describe_domain(DomainId=domain_id)['DomainSettings']"
   ]
  },
  {
   "cell_type": "markdown",
   "id": "f4af05f0-65ca-46ce-8ac6-8cc5b32d98f6",
   "metadata": {},
   "source": [
    "### Install Docker"
   ]
  },
  {
   "cell_type": "code",
   "execution_count": 34,
   "id": "7f5914f7-7564-4df2-9ead-c72acc83ccc7",
   "metadata": {},
   "outputs": [
    {
     "name": "stdout",
     "output_type": "stream",
     "text": [
      "Hit:1 http://archive.ubuntu.com/ubuntu jammy InRelease\n",
      "Get:2 http://security.ubuntu.com/ubuntu jammy-security InRelease [129 kB]\n",
      "Get:3 http://archive.ubuntu.com/ubuntu jammy-updates InRelease [128 kB]\n",
      "Get:4 http://archive.ubuntu.com/ubuntu jammy-backports InRelease [127 kB]\n",
      "Get:5 http://security.ubuntu.com/ubuntu jammy-security/main amd64 Packages [2372 kB]\n",
      "Get:6 http://archive.ubuntu.com/ubuntu jammy-updates/restricted amd64 Packages [3278 kB]\n",
      "Get:7 http://security.ubuntu.com/ubuntu jammy-security/restricted amd64 Packages [3200 kB]\n",
      "Get:8 http://archive.ubuntu.com/ubuntu jammy-updates/universe amd64 Packages [1451 kB]\n",
      "Get:9 http://archive.ubuntu.com/ubuntu jammy-updates/main amd64 Packages [2648 kB]\n",
      "Get:10 http://security.ubuntu.com/ubuntu jammy-security/universe amd64 Packages [1162 kB]\n",
      "Get:11 http://archive.ubuntu.com/ubuntu jammy-backports/main amd64 Packages [81.4 kB]\n",
      "Get:12 http://archive.ubuntu.com/ubuntu jammy-backports/universe amd64 Packages [33.7 kB]\n",
      "Fetched 14.6 MB in 2s (8574 kB/s)\n",
      "Reading package lists...\n",
      "Reading package lists...\n",
      "Building dependency tree...\n",
      "Reading state information...\n",
      "curl is already the newest version (7.81.0-1ubuntu1.18).\n",
      "The following NEW packages will be installed:\n",
      "  ca-certificates openssl\n",
      "0 upgraded, 2 newly installed, 0 to remove and 2 not upgraded.\n",
      "Need to get 1347 kB of archives.\n",
      "After this operation, 2511 kB of additional disk space will be used.\n",
      "Get:1 http://archive.ubuntu.com/ubuntu jammy-updates/main amd64 openssl amd64 3.0.2-0ubuntu1.18 [1184 kB]\n",
      "Get:2 http://archive.ubuntu.com/ubuntu jammy-updates/main amd64 ca-certificates all 20240203~22.04.1 [162 kB]\n"
     ]
    },
    {
     "name": "stderr",
     "output_type": "stream",
     "text": [
      "debconf: delaying package configuration, since apt-utils is not installed\n"
     ]
    },
    {
     "name": "stdout",
     "output_type": "stream",
     "text": [
      "Fetched 1347 kB in 1s (1821 kB/s)\n",
      "Selecting previously unselected package openssl.\n",
      "(Reading database ... 13790 files and directories currently installed.)\n",
      "Preparing to unpack .../openssl_3.0.2-0ubuntu1.18_amd64.deb ...\n",
      "Unpacking openssl (3.0.2-0ubuntu1.18) ...\n",
      "Selecting previously unselected package ca-certificates.\n",
      "Preparing to unpack .../ca-certificates_20240203~22.04.1_all.deb ...\n",
      "Unpacking ca-certificates (20240203~22.04.1) ...\n",
      "Setting up openssl (3.0.2-0ubuntu1.18) ...\n",
      "Setting up ca-certificates (20240203~22.04.1) ...\n",
      "debconf: unable to initialize frontend: Dialog\n",
      "debconf: (No usable dialog-like program is installed, so the dialog based frontend cannot be used. at /usr/share/perl5/Debconf/FrontEnd/Dialog.pm line 78.)\n",
      "debconf: falling back to frontend: Readline\n",
      "Updating certificates in /etc/ssl/certs...\n",
      "rehash: warning: skipping ca-certificates.crt,it does not contain exactly one certificate or CRL\n",
      "146 added, 0 removed; done.\n",
      "Processing triggers for ca-certificates (20240203~22.04.1) ...\n",
      "Updating certificates in /etc/ssl/certs...\n",
      "0 added, 0 removed; done.\n",
      "Running hooks in /etc/ca-certificates/update.d...\n",
      "done.\n",
      "Get:1 https://download.docker.com/linux/ubuntu jammy InRelease [48.8 kB]\n",
      "Hit:2 http://security.ubuntu.com/ubuntu jammy-security InRelease\n",
      "Get:3 https://download.docker.com/linux/ubuntu jammy/stable amd64 Packages [48.4 kB]\n",
      "Hit:4 http://archive.ubuntu.com/ubuntu jammy InRelease\n",
      "Hit:5 http://archive.ubuntu.com/ubuntu jammy-updates InRelease\n",
      "Hit:6 http://archive.ubuntu.com/ubuntu jammy-backports InRelease\n",
      "Fetched 97.2 kB in 0s (264 kB/s)\n",
      "Reading package lists...\n",
      "Reading package lists...\n",
      "Building dependency tree...\n",
      "Reading state information...\n",
      "The following NEW packages will be installed:\n",
      "  docker-ce-cli docker-compose-plugin\n",
      "0 upgraded, 2 newly installed, 0 to remove and 2 not upgraded.\n",
      "Need to get 55.8 MB of archives.\n",
      "After this operation, 218 MB of additional disk space will be used.\n",
      "Get:1 https://download.docker.com/linux/ubuntu jammy/stable amd64 docker-ce-cli amd64 5:20.10.24~3-0~ubuntu-jammy [43.2 MB]\n",
      "Get:2 https://download.docker.com/linux/ubuntu jammy/stable amd64 docker-compose-plugin amd64 2.29.7-1~ubuntu.22.04~jammy [12.7 MB]\n"
     ]
    },
    {
     "name": "stderr",
     "output_type": "stream",
     "text": [
      "debconf: delaying package configuration, since apt-utils is not installed\n"
     ]
    },
    {
     "name": "stdout",
     "output_type": "stream",
     "text": [
      "Fetched 55.8 MB in 1s (97.6 MB/s)\n",
      "Selecting previously unselected package docker-ce-cli.\n",
      "(Reading database ... 14266 files and directories currently installed.)\n",
      "Preparing to unpack .../docker-ce-cli_5%3a20.10.24~3-0~ubuntu-jammy_amd64.deb ...\n",
      "Unpacking docker-ce-cli (5:20.10.24~3-0~ubuntu-jammy) ...\n",
      "Selecting previously unselected package docker-compose-plugin.\n",
      "Preparing to unpack .../docker-compose-plugin_2.29.7-1~ubuntu.22.04~jammy_amd64.deb ...\n",
      "Unpacking docker-compose-plugin (2.29.7-1~ubuntu.22.04~jammy) ...\n",
      "Setting up docker-compose-plugin (2.29.7-1~ubuntu.22.04~jammy) ...\n",
      "Setting up docker-ce-cli (5:20.10.24~3-0~ubuntu-jammy) ...\n",
      "Client: Docker Engine - Community\n",
      " Version:           20.10.24\n",
      " API version:       1.41\n",
      " Go version:        go1.19.7\n",
      " Git commit:        297e128\n",
      " Built:             Tue Apr  4 18:21:03 2023\n",
      " OS/Arch:           linux/amd64\n",
      " Context:           default\n",
      " Experimental:      true\n",
      "\n",
      "Server:\n",
      " Engine:\n",
      "  Version:          25.0.6\n",
      "  API version:      1.44 (minimum version 1.24)\n",
      "  Go version:       go1.22.5\n",
      "  Git commit:       b08a51f\n",
      "  Built:            Mon Jul 29 17:22:09 2024\n",
      "  OS/Arch:          linux/amd64\n",
      "  Experimental:     false\n",
      " containerd:\n",
      "  Version:          1.7.20\n",
      "  GitCommit:        8fc6bcff51318944179630522a095cc9dbf9f353\n",
      " runc:\n",
      "  Version:          1.1.13\n",
      "  GitCommit:        58aa9203c123022138b22cf96540c284876a7910\n",
      " docker-init:\n",
      "  Version:          0.19.0\n",
      "  GitCommit:        de40ad0\n"
     ]
    }
   ],
   "source": [
    "%%bash\n",
    "\n",
    "# see https://docs.docker.com/engine/install/ubuntu/#install-using-the-repository\n",
    "sudo apt-get update\n",
    "sudo apt-get install -y ca-certificates curl\n",
    "sudo install -m 0755 -d /etc/apt/keyrings\n",
    "sudo curl -fsSL https://download.docker.com/linux/ubuntu/gpg -o /etc/apt/keyrings/docker.asc\n",
    "sudo chmod a+r /etc/apt/keyrings/docker.asc\n",
    "\n",
    "# Add the repository to Apt sources:\n",
    "echo \\\n",
    "  \"deb [arch=$(dpkg --print-architecture) signed-by=/etc/apt/keyrings/docker.asc] https://download.docker.com/linux/ubuntu \\\n",
    "  $(. /etc/os-release && echo \"$VERSION_CODENAME\") stable\" | \\\n",
    "  sudo tee /etc/apt/sources.list.d/docker.list > /dev/null\n",
    "sudo apt-get update\n",
    "\n",
    "## Currently only Docker version 20.10.X is supported in Studio: see https://docs.aws.amazon.com/sagemaker/latest/dg/studio-updated-local.html\n",
    "# pick the latest patch from:\n",
    "# apt-cache madison docker-ce | awk '{ print $3 }' | grep -i 20.10\n",
    "VERSION_STRING=5:20.10.24~3-0~ubuntu-jammy\n",
    "sudo apt-get install docker-ce-cli=$VERSION_STRING docker-compose-plugin -y\n",
    "\n",
    "# validate the Docker Client is able to access Docker Server at [unix:///docker/proxy.sock]\n",
    "docker version"
   ]
  },
  {
   "cell_type": "markdown",
   "id": "7fdd111d-e735-4de8-a113-a8f784d5f7c4",
   "metadata": {},
   "source": [
    "## Restart kernel"
   ]
  },
  {
   "cell_type": "code",
   "execution_count": 35,
   "id": "bcea57a4-c88e-4599-8e33-f1b1e1f2e195",
   "metadata": {
    "tags": []
   },
   "outputs": [
    {
     "data": {
      "text/plain": [
       "{'status': 'ok', 'restart': True}"
      ]
     },
     "execution_count": 35,
     "metadata": {},
     "output_type": "execute_result"
    }
   ],
   "source": [
    "# Restart kernel to get the packages\n",
    "import IPython\n",
    "IPython.Application.instance().kernel.do_shutdown(True)"
   ]
  },
  {
   "cell_type": "markdown",
   "id": "b4e9dcfd-52d9-4269-b525-2eddc74057d9",
   "metadata": {},
   "source": [
    "## Further workshop flow\n",
    "Continue with the workshop by going to Module 01.\n"
   ]
  },
  {
   "cell_type": "code",
   "execution_count": null,
   "id": "4f4fac64-592a-45a5-999a-73a20cd11c1b",
   "metadata": {
    "editable": true,
    "slideshow": {
     "slide_type": ""
    },
    "tags": []
   },
   "outputs": [],
   "source": []
  }
 ],
 "metadata": {
  "availableInstances": [
   {
    "_defaultOrder": 0,
    "_isFastLaunch": true,
    "category": "General purpose",
    "gpuNum": 0,
    "hideHardwareSpecs": false,
    "memoryGiB": 4,
    "name": "ml.t3.medium",
    "vcpuNum": 2
   },
   {
    "_defaultOrder": 1,
    "_isFastLaunch": false,
    "category": "General purpose",
    "gpuNum": 0,
    "hideHardwareSpecs": false,
    "memoryGiB": 8,
    "name": "ml.t3.large",
    "vcpuNum": 2
   },
   {
    "_defaultOrder": 2,
    "_isFastLaunch": false,
    "category": "General purpose",
    "gpuNum": 0,
    "hideHardwareSpecs": false,
    "memoryGiB": 16,
    "name": "ml.t3.xlarge",
    "vcpuNum": 4
   },
   {
    "_defaultOrder": 3,
    "_isFastLaunch": false,
    "category": "General purpose",
    "gpuNum": 0,
    "hideHardwareSpecs": false,
    "memoryGiB": 32,
    "name": "ml.t3.2xlarge",
    "vcpuNum": 8
   },
   {
    "_defaultOrder": 4,
    "_isFastLaunch": true,
    "category": "General purpose",
    "gpuNum": 0,
    "hideHardwareSpecs": false,
    "memoryGiB": 8,
    "name": "ml.m5.large",
    "vcpuNum": 2
   },
   {
    "_defaultOrder": 5,
    "_isFastLaunch": false,
    "category": "General purpose",
    "gpuNum": 0,
    "hideHardwareSpecs": false,
    "memoryGiB": 16,
    "name": "ml.m5.xlarge",
    "vcpuNum": 4
   },
   {
    "_defaultOrder": 6,
    "_isFastLaunch": false,
    "category": "General purpose",
    "gpuNum": 0,
    "hideHardwareSpecs": false,
    "memoryGiB": 32,
    "name": "ml.m5.2xlarge",
    "vcpuNum": 8
   },
   {
    "_defaultOrder": 7,
    "_isFastLaunch": false,
    "category": "General purpose",
    "gpuNum": 0,
    "hideHardwareSpecs": false,
    "memoryGiB": 64,
    "name": "ml.m5.4xlarge",
    "vcpuNum": 16
   },
   {
    "_defaultOrder": 8,
    "_isFastLaunch": false,
    "category": "General purpose",
    "gpuNum": 0,
    "hideHardwareSpecs": false,
    "memoryGiB": 128,
    "name": "ml.m5.8xlarge",
    "vcpuNum": 32
   },
   {
    "_defaultOrder": 9,
    "_isFastLaunch": false,
    "category": "General purpose",
    "gpuNum": 0,
    "hideHardwareSpecs": false,
    "memoryGiB": 192,
    "name": "ml.m5.12xlarge",
    "vcpuNum": 48
   },
   {
    "_defaultOrder": 10,
    "_isFastLaunch": false,
    "category": "General purpose",
    "gpuNum": 0,
    "hideHardwareSpecs": false,
    "memoryGiB": 256,
    "name": "ml.m5.16xlarge",
    "vcpuNum": 64
   },
   {
    "_defaultOrder": 11,
    "_isFastLaunch": false,
    "category": "General purpose",
    "gpuNum": 0,
    "hideHardwareSpecs": false,
    "memoryGiB": 384,
    "name": "ml.m5.24xlarge",
    "vcpuNum": 96
   },
   {
    "_defaultOrder": 12,
    "_isFastLaunch": false,
    "category": "General purpose",
    "gpuNum": 0,
    "hideHardwareSpecs": false,
    "memoryGiB": 8,
    "name": "ml.m5d.large",
    "vcpuNum": 2
   },
   {
    "_defaultOrder": 13,
    "_isFastLaunch": false,
    "category": "General purpose",
    "gpuNum": 0,
    "hideHardwareSpecs": false,
    "memoryGiB": 16,
    "name": "ml.m5d.xlarge",
    "vcpuNum": 4
   },
   {
    "_defaultOrder": 14,
    "_isFastLaunch": false,
    "category": "General purpose",
    "gpuNum": 0,
    "hideHardwareSpecs": false,
    "memoryGiB": 32,
    "name": "ml.m5d.2xlarge",
    "vcpuNum": 8
   },
   {
    "_defaultOrder": 15,
    "_isFastLaunch": false,
    "category": "General purpose",
    "gpuNum": 0,
    "hideHardwareSpecs": false,
    "memoryGiB": 64,
    "name": "ml.m5d.4xlarge",
    "vcpuNum": 16
   },
   {
    "_defaultOrder": 16,
    "_isFastLaunch": false,
    "category": "General purpose",
    "gpuNum": 0,
    "hideHardwareSpecs": false,
    "memoryGiB": 128,
    "name": "ml.m5d.8xlarge",
    "vcpuNum": 32
   },
   {
    "_defaultOrder": 17,
    "_isFastLaunch": false,
    "category": "General purpose",
    "gpuNum": 0,
    "hideHardwareSpecs": false,
    "memoryGiB": 192,
    "name": "ml.m5d.12xlarge",
    "vcpuNum": 48
   },
   {
    "_defaultOrder": 18,
    "_isFastLaunch": false,
    "category": "General purpose",
    "gpuNum": 0,
    "hideHardwareSpecs": false,
    "memoryGiB": 256,
    "name": "ml.m5d.16xlarge",
    "vcpuNum": 64
   },
   {
    "_defaultOrder": 19,
    "_isFastLaunch": false,
    "category": "General purpose",
    "gpuNum": 0,
    "hideHardwareSpecs": false,
    "memoryGiB": 384,
    "name": "ml.m5d.24xlarge",
    "vcpuNum": 96
   },
   {
    "_defaultOrder": 20,
    "_isFastLaunch": false,
    "category": "General purpose",
    "gpuNum": 0,
    "hideHardwareSpecs": true,
    "memoryGiB": 0,
    "name": "ml.geospatial.interactive",
    "supportedImageNames": [
     "sagemaker-geospatial-v1-0"
    ],
    "vcpuNum": 0
   },
   {
    "_defaultOrder": 21,
    "_isFastLaunch": true,
    "category": "Compute optimized",
    "gpuNum": 0,
    "hideHardwareSpecs": false,
    "memoryGiB": 4,
    "name": "ml.c5.large",
    "vcpuNum": 2
   },
   {
    "_defaultOrder": 22,
    "_isFastLaunch": false,
    "category": "Compute optimized",
    "gpuNum": 0,
    "hideHardwareSpecs": false,
    "memoryGiB": 8,
    "name": "ml.c5.xlarge",
    "vcpuNum": 4
   },
   {
    "_defaultOrder": 23,
    "_isFastLaunch": false,
    "category": "Compute optimized",
    "gpuNum": 0,
    "hideHardwareSpecs": false,
    "memoryGiB": 16,
    "name": "ml.c5.2xlarge",
    "vcpuNum": 8
   },
   {
    "_defaultOrder": 24,
    "_isFastLaunch": false,
    "category": "Compute optimized",
    "gpuNum": 0,
    "hideHardwareSpecs": false,
    "memoryGiB": 32,
    "name": "ml.c5.4xlarge",
    "vcpuNum": 16
   },
   {
    "_defaultOrder": 25,
    "_isFastLaunch": false,
    "category": "Compute optimized",
    "gpuNum": 0,
    "hideHardwareSpecs": false,
    "memoryGiB": 72,
    "name": "ml.c5.9xlarge",
    "vcpuNum": 36
   },
   {
    "_defaultOrder": 26,
    "_isFastLaunch": false,
    "category": "Compute optimized",
    "gpuNum": 0,
    "hideHardwareSpecs": false,
    "memoryGiB": 96,
    "name": "ml.c5.12xlarge",
    "vcpuNum": 48
   },
   {
    "_defaultOrder": 27,
    "_isFastLaunch": false,
    "category": "Compute optimized",
    "gpuNum": 0,
    "hideHardwareSpecs": false,
    "memoryGiB": 144,
    "name": "ml.c5.18xlarge",
    "vcpuNum": 72
   },
   {
    "_defaultOrder": 28,
    "_isFastLaunch": false,
    "category": "Compute optimized",
    "gpuNum": 0,
    "hideHardwareSpecs": false,
    "memoryGiB": 192,
    "name": "ml.c5.24xlarge",
    "vcpuNum": 96
   },
   {
    "_defaultOrder": 29,
    "_isFastLaunch": true,
    "category": "Accelerated computing",
    "gpuNum": 1,
    "hideHardwareSpecs": false,
    "memoryGiB": 16,
    "name": "ml.g4dn.xlarge",
    "vcpuNum": 4
   },
   {
    "_defaultOrder": 30,
    "_isFastLaunch": false,
    "category": "Accelerated computing",
    "gpuNum": 1,
    "hideHardwareSpecs": false,
    "memoryGiB": 32,
    "name": "ml.g4dn.2xlarge",
    "vcpuNum": 8
   },
   {
    "_defaultOrder": 31,
    "_isFastLaunch": false,
    "category": "Accelerated computing",
    "gpuNum": 1,
    "hideHardwareSpecs": false,
    "memoryGiB": 64,
    "name": "ml.g4dn.4xlarge",
    "vcpuNum": 16
   },
   {
    "_defaultOrder": 32,
    "_isFastLaunch": false,
    "category": "Accelerated computing",
    "gpuNum": 1,
    "hideHardwareSpecs": false,
    "memoryGiB": 128,
    "name": "ml.g4dn.8xlarge",
    "vcpuNum": 32
   },
   {
    "_defaultOrder": 33,
    "_isFastLaunch": false,
    "category": "Accelerated computing",
    "gpuNum": 4,
    "hideHardwareSpecs": false,
    "memoryGiB": 192,
    "name": "ml.g4dn.12xlarge",
    "vcpuNum": 48
   },
   {
    "_defaultOrder": 34,
    "_isFastLaunch": false,
    "category": "Accelerated computing",
    "gpuNum": 1,
    "hideHardwareSpecs": false,
    "memoryGiB": 256,
    "name": "ml.g4dn.16xlarge",
    "vcpuNum": 64
   },
   {
    "_defaultOrder": 35,
    "_isFastLaunch": false,
    "category": "Accelerated computing",
    "gpuNum": 1,
    "hideHardwareSpecs": false,
    "memoryGiB": 61,
    "name": "ml.p3.2xlarge",
    "vcpuNum": 8
   },
   {
    "_defaultOrder": 36,
    "_isFastLaunch": false,
    "category": "Accelerated computing",
    "gpuNum": 4,
    "hideHardwareSpecs": false,
    "memoryGiB": 244,
    "name": "ml.p3.8xlarge",
    "vcpuNum": 32
   },
   {
    "_defaultOrder": 37,
    "_isFastLaunch": false,
    "category": "Accelerated computing",
    "gpuNum": 8,
    "hideHardwareSpecs": false,
    "memoryGiB": 488,
    "name": "ml.p3.16xlarge",
    "vcpuNum": 64
   },
   {
    "_defaultOrder": 38,
    "_isFastLaunch": false,
    "category": "Accelerated computing",
    "gpuNum": 8,
    "hideHardwareSpecs": false,
    "memoryGiB": 768,
    "name": "ml.p3dn.24xlarge",
    "vcpuNum": 96
   },
   {
    "_defaultOrder": 39,
    "_isFastLaunch": false,
    "category": "Memory Optimized",
    "gpuNum": 0,
    "hideHardwareSpecs": false,
    "memoryGiB": 16,
    "name": "ml.r5.large",
    "vcpuNum": 2
   },
   {
    "_defaultOrder": 40,
    "_isFastLaunch": false,
    "category": "Memory Optimized",
    "gpuNum": 0,
    "hideHardwareSpecs": false,
    "memoryGiB": 32,
    "name": "ml.r5.xlarge",
    "vcpuNum": 4
   },
   {
    "_defaultOrder": 41,
    "_isFastLaunch": false,
    "category": "Memory Optimized",
    "gpuNum": 0,
    "hideHardwareSpecs": false,
    "memoryGiB": 64,
    "name": "ml.r5.2xlarge",
    "vcpuNum": 8
   },
   {
    "_defaultOrder": 42,
    "_isFastLaunch": false,
    "category": "Memory Optimized",
    "gpuNum": 0,
    "hideHardwareSpecs": false,
    "memoryGiB": 128,
    "name": "ml.r5.4xlarge",
    "vcpuNum": 16
   },
   {
    "_defaultOrder": 43,
    "_isFastLaunch": false,
    "category": "Memory Optimized",
    "gpuNum": 0,
    "hideHardwareSpecs": false,
    "memoryGiB": 256,
    "name": "ml.r5.8xlarge",
    "vcpuNum": 32
   },
   {
    "_defaultOrder": 44,
    "_isFastLaunch": false,
    "category": "Memory Optimized",
    "gpuNum": 0,
    "hideHardwareSpecs": false,
    "memoryGiB": 384,
    "name": "ml.r5.12xlarge",
    "vcpuNum": 48
   },
   {
    "_defaultOrder": 45,
    "_isFastLaunch": false,
    "category": "Memory Optimized",
    "gpuNum": 0,
    "hideHardwareSpecs": false,
    "memoryGiB": 512,
    "name": "ml.r5.16xlarge",
    "vcpuNum": 64
   },
   {
    "_defaultOrder": 46,
    "_isFastLaunch": false,
    "category": "Memory Optimized",
    "gpuNum": 0,
    "hideHardwareSpecs": false,
    "memoryGiB": 768,
    "name": "ml.r5.24xlarge",
    "vcpuNum": 96
   },
   {
    "_defaultOrder": 47,
    "_isFastLaunch": false,
    "category": "Accelerated computing",
    "gpuNum": 1,
    "hideHardwareSpecs": false,
    "memoryGiB": 16,
    "name": "ml.g5.xlarge",
    "vcpuNum": 4
   },
   {
    "_defaultOrder": 48,
    "_isFastLaunch": false,
    "category": "Accelerated computing",
    "gpuNum": 1,
    "hideHardwareSpecs": false,
    "memoryGiB": 32,
    "name": "ml.g5.2xlarge",
    "vcpuNum": 8
   },
   {
    "_defaultOrder": 49,
    "_isFastLaunch": false,
    "category": "Accelerated computing",
    "gpuNum": 1,
    "hideHardwareSpecs": false,
    "memoryGiB": 64,
    "name": "ml.g5.4xlarge",
    "vcpuNum": 16
   },
   {
    "_defaultOrder": 50,
    "_isFastLaunch": false,
    "category": "Accelerated computing",
    "gpuNum": 1,
    "hideHardwareSpecs": false,
    "memoryGiB": 128,
    "name": "ml.g5.8xlarge",
    "vcpuNum": 32
   },
   {
    "_defaultOrder": 51,
    "_isFastLaunch": false,
    "category": "Accelerated computing",
    "gpuNum": 1,
    "hideHardwareSpecs": false,
    "memoryGiB": 256,
    "name": "ml.g5.16xlarge",
    "vcpuNum": 64
   },
   {
    "_defaultOrder": 52,
    "_isFastLaunch": false,
    "category": "Accelerated computing",
    "gpuNum": 4,
    "hideHardwareSpecs": false,
    "memoryGiB": 192,
    "name": "ml.g5.12xlarge",
    "vcpuNum": 48
   },
   {
    "_defaultOrder": 53,
    "_isFastLaunch": false,
    "category": "Accelerated computing",
    "gpuNum": 4,
    "hideHardwareSpecs": false,
    "memoryGiB": 384,
    "name": "ml.g5.24xlarge",
    "vcpuNum": 96
   },
   {
    "_defaultOrder": 54,
    "_isFastLaunch": false,
    "category": "Accelerated computing",
    "gpuNum": 8,
    "hideHardwareSpecs": false,
    "memoryGiB": 768,
    "name": "ml.g5.48xlarge",
    "vcpuNum": 192
   },
   {
    "_defaultOrder": 55,
    "_isFastLaunch": false,
    "category": "Accelerated computing",
    "gpuNum": 8,
    "hideHardwareSpecs": false,
    "memoryGiB": 1152,
    "name": "ml.p4d.24xlarge",
    "vcpuNum": 96
   },
   {
    "_defaultOrder": 56,
    "_isFastLaunch": false,
    "category": "Accelerated computing",
    "gpuNum": 8,
    "hideHardwareSpecs": false,
    "memoryGiB": 1152,
    "name": "ml.p4de.24xlarge",
    "vcpuNum": 96
   },
   {
    "_defaultOrder": 57,
    "_isFastLaunch": false,
    "category": "Accelerated computing",
    "gpuNum": 0,
    "hideHardwareSpecs": false,
    "memoryGiB": 32,
    "name": "ml.trn1.2xlarge",
    "vcpuNum": 8
   },
   {
    "_defaultOrder": 58,
    "_isFastLaunch": false,
    "category": "Accelerated computing",
    "gpuNum": 0,
    "hideHardwareSpecs": false,
    "memoryGiB": 512,
    "name": "ml.trn1.32xlarge",
    "vcpuNum": 128
   },
   {
    "_defaultOrder": 59,
    "_isFastLaunch": false,
    "category": "Accelerated computing",
    "gpuNum": 0,
    "hideHardwareSpecs": false,
    "memoryGiB": 512,
    "name": "ml.trn1n.32xlarge",
    "vcpuNum": 128
   }
  ],
  "instance_type": "ml.t3.medium",
  "kernelspec": {
   "display_name": "Python 3 (ipykernel)",
   "language": "python",
   "name": "python3"
  },
  "language_info": {
   "codemirror_mode": {
    "name": "ipython",
    "version": 3
   },
   "file_extension": ".py",
   "mimetype": "text/x-python",
   "name": "python",
   "nbconvert_exporter": "python",
   "pygments_lexer": "ipython3",
   "version": "3.10.14"
  }
 },
 "nbformat": 4,
 "nbformat_minor": 5
}
