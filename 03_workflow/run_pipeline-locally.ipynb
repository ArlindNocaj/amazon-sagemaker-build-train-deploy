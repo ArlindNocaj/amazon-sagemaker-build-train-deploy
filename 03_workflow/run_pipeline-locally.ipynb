{
 "cells": [
  {
   "cell_type": "markdown",
   "id": "053c0118-b973-4900-a357-4d508098a4d9",
   "metadata": {},
   "source": [
    "## Run Workflow using Step Decorators\n",
    "\n",
    "The code and notebook in this directory shows how we can create a complete pipeline with step decorators.\n",
    "Each step of the pipeline is shown under the same run in MLFlow."
   ]
  },
  {
   "cell_type": "markdown",
   "id": "dc6539d0-c10f-4b75-949e-4a125a7d0980",
   "metadata": {},
   "source": [
    "Lets restore the variables from the `00-start-here` notebook"
   ]
  },
  {
   "cell_type": "code",
   "execution_count": null,
   "id": "a780a112-657c-4442-9681-2de9cc601a5c",
   "metadata": {},
   "outputs": [],
   "source": [
    "%store -r \n",
    "\n",
    "%store\n",
    "\n",
    "try:\n",
    "    initialized\n",
    "except NameError:    \n",
    "    print(\"[ERROR] YOU HAVE TO RUN 00-start-here notebook   \")"
   ]
  },
  {
   "cell_type": "markdown",
   "id": "5a96eb89-b308-4745-8da1-93776e39bada",
   "metadata": {},
   "source": [
    "## Copy the Sagemaker distribution container to our private ECR repository"
   ]
  },
  {
   "cell_type": "code",
   "execution_count": null,
   "id": "790d1417-c27e-4563-8060-56177684357f",
   "metadata": {},
   "outputs": [],
   "source": [
    "import boto3\n",
    "import os\n",
    "\n",
    "ACCOUNT_ID = boto3.client('sts').get_caller_identity()['Account']\n",
    "REGION = boto3.session.Session().region_name\n",
    "\n",
    "REPO_NAME = f\"{project_prefix}-sagemaker-distribution-prod\"\n",
    "BASE_IMAGE=\"885854791233.dkr.ecr.us-east-1.amazonaws.com/sagemaker-distribution-prod@sha256:296c06cdf03dc6f1c3f1e7f8b4457f18178ab1b861ab485f33c64656d02d8799\"\n",
    "MY_REPO=f\"{ACCOUNT_ID}.dkr.ecr.{REGION}.amazonaws.com/{REPO_NAME}:latest\"\n",
    "\n",
    "\n",
    "os.environ[\"ACCOUNT_ID\"] = ACCOUNT_ID\n",
    "os.environ[\"REGION\"] = REGION\n",
    "\n",
    "os.environ[\"REPO_NAME\"] = REPO_NAME\n",
    "os.environ[\"MY_REPO\"] = MY_REPO\n",
    "\n",
    "os.environ[\"BASE_IMAGE\"] = BASE_IMAGE\n"
   ]
  },
  {
   "cell_type": "code",
   "execution_count": null,
   "id": "91bb375a-f3aa-45fe-9709-9c8daed7dc40",
   "metadata": {},
   "outputs": [],
   "source": [
    "%%bash\n",
    "\n",
    "REPO_NAME=$REPO_NAME\n",
    "\n",
    "# Check if the repository exists\n",
    "if aws ecr describe-repositories --repository-names \"$REPO_NAME\" > /dev/null 2>&1; then\n",
    "    echo \"Repository '$REPO_NAME' already exists.\"\n",
    "else\n",
    "    # Create the repository if it does not exist\n",
    "    aws ecr create-repository --repository-name \"$REPO_NAME\"\n",
    "    echo \"Repository '$REPO_NAME' created.\"\n",
    "fi"
   ]
  },
  {
   "cell_type": "code",
   "execution_count": null,
   "id": "e7b7b206-98a4-45d8-af58-2f0157b7e479",
   "metadata": {
    "scrolled": true
   },
   "outputs": [],
   "source": [
    "%%bash\n",
    "# download and push the image to our own image repository\n",
    "set -x\n",
    "\n",
    "docker pull \"$BASE_IMAGE\"\n",
    "aws ecr get-login-password --region \"$REGION\" | docker login --username AWS --password-stdin \"${ACCOUNT_ID}.dkr.ecr.${REGION}.amazonaws.com\"\n",
    "docker tag \"$BASE_IMAGE\" \"$MY_REPO\"\n",
    "docker push \"$MY_REPO\"\n",
    "\n",
    "echo \"Image pushed to ECR: $MY_REPO\""
   ]
  },
  {
   "cell_type": "markdown",
   "id": "cfd75289-b6c0-452e-871b-973ffcb55f35",
   "metadata": {},
   "source": [
    "## Run the pipeline locally"
   ]
  },
  {
   "cell_type": "markdown",
   "id": "a01d7e95-186a-4aee-ad93-be6223b79ae9",
   "metadata": {},
   "source": [
    "Let's first install the dependencies required to run this code locally"
   ]
  },
  {
   "cell_type": "code",
   "execution_count": null,
   "id": "1f7e4b6c-f8c9-4a7a-b24f-2b3751203913",
   "metadata": {},
   "outputs": [],
   "source": [
    "%pip install --ignore-installed -r requirements.txt --quiet"
   ]
  },
  {
   "cell_type": "markdown",
   "id": "9ecc88b1-fffe-49f4-8db6-6ba813ad555d",
   "metadata": {},
   "source": [
    "We create a config which will be used by default for each step. \n",
    "* `S3RootUri`: S3 location that will be used by default for the pipeline artifacts\n",
    "* `ImageUri`: Container image that will be used by default for each step"
   ]
  },
  {
   "cell_type": "code",
   "execution_count": null,
   "id": "b20f6233-a82a-48a3-b9bf-76312b5b9f4e",
   "metadata": {},
   "outputs": [],
   "source": [
    "config_yaml = f\"\"\"\n",
    "SchemaVersion: '1.0'\n",
    "SageMaker:\n",
    "  PythonSDK:\n",
    "    Modules:\n",
    "      RemoteFunction:\n",
    "        # role arn is not required if in SageMaker Notebook instance or SageMaker Studio\n",
    "        # Uncomment the following line and replace with the right execution role if in a local IDE\n",
    "        # RoleArn: <replace the role arn here>\n",
    "        S3RootUri: s3://{bucket_prefix}\n",
    "        ImageUri: {MY_REPO}\n",
    "        InstanceType: ml.m5.xlarge\n",
    "        Dependencies: ./requirements.txt\n",
    "        IncludeLocalWorkDir: true\n",
    "        PreExecutionCommands:\n",
    "        - \"sudo chmod -R 777 /opt/ml/model\"\n",
    "        CustomFileFilter:\n",
    "          IgnoreNamePatterns:\n",
    "          - \"data/*\"\n",
    "          - \"models/*\"\n",
    "          - \"*.ipynb\"\n",
    "          - \"__pycache__\"\n",
    "\n",
    "\"\"\"\n",
    "\n",
    "print(config_yaml, file=open('config.yaml', 'w'))\n",
    "print(config_yaml)"
   ]
  },
  {
   "cell_type": "markdown",
   "id": "e8bb585f-6f84-43d4-9fa7-d222e432fc98",
   "metadata": {},
   "source": [
    "Now we run the pipeline in local mode"
   ]
  },
  {
   "cell_type": "code",
   "execution_count": null,
   "id": "21ab9de8-a6fc-423b-b924-696498a42da1",
   "metadata": {},
   "outputs": [],
   "source": [
    "import os\n",
    "os.environ[\"MLFLOW_TRACKING_ARN\"] = mlflow_arn\n",
    "os.environ[\"LOCAL_MODE\"] = \"True\"\n",
    "!python pipeline.py"
   ]
  },
  {
   "cell_type": "code",
   "execution_count": null,
   "id": "88d7b3f9-3e06-4936-a655-d4ae73fc26fc",
   "metadata": {},
   "outputs": [],
   "source": []
  },
  {
   "cell_type": "code",
   "execution_count": null,
   "id": "c93eac8b-dea6-4aff-8b7b-e36ab2272c50",
   "metadata": {},
   "outputs": [],
   "source": []
  }
 ],
 "metadata": {
  "kernelspec": {
   "display_name": "Python 3 (ipykernel)",
   "language": "python",
   "name": "python3"
  },
  "language_info": {
   "codemirror_mode": {
    "name": "ipython",
    "version": 3
   },
   "file_extension": ".py",
   "mimetype": "text/x-python",
   "name": "python",
   "nbconvert_exporter": "python",
   "pygments_lexer": "ipython3",
   "version": "3.10.14"
  }
 },
 "nbformat": 4,
 "nbformat_minor": 5
}
